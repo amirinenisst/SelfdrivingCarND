{
 "cells": [
  {
   "cell_type": "markdown",
   "metadata": {},
   "source": [
    "# Self-Driving Car Engineer Nanodegree\n",
    "\n",
    "\n",
    "## Project: Build a Traffic Sign Recognition Classifier\n"
   ]
  },
  {
   "cell_type": "markdown",
   "metadata": {},
   "source": [
    "---\n",
    "##  Load The Data"
   ]
  },
  {
   "cell_type": "code",
   "execution_count": 1,
   "metadata": {},
   "outputs": [],
   "source": [
    "# Load pickled data\n",
    "import pickle\n",
    "\n",
    "# Importing other libraries\n",
    "import numpy as np\n",
    "import tensorflow as tf\n",
    "from sklearn.utils import shuffle\n",
    "\n",
    "# TODO: Fill this in based on where you saved the training and testing data\n",
    "\n",
    "training_file = 'train.p'\n",
    "testing_file = 'test.p'\n",
    "\n",
    "with open(training_file, mode='rb') as f:\n",
    "    train = pickle.load(f)\n",
    "with open(testing_file, mode='rb') as f:\n",
    "    test = pickle.load(f)\n",
    "    \n",
    "X_train, y_train = train['features'], train['labels']\n",
    "X_test, y_test = test['features'], test['labels']"
   ]
  },
  {
   "cell_type": "markdown",
   "metadata": {},
   "source": [
    "---\n",
    "\n",
    "## Step 1: Dataset Summary & Exploration\n",
    "\n",
    "The pickled data is a dictionary with 4 key/value pairs:\n",
    "\n",
    "- `'features'` is a 4D array containing raw pixel data of the traffic sign images, (num examples, width, height, channels).\n",
    "- `'labels'` is a 2D array containing the label/class id of the traffic sign. The file `signnames.csv` contains id -> name mappings for each id.\n",
    "- `'sizes'` is a list containing tuples, (width, height) representing the the original width and height the image.\n",
    "- `'coords'` is a list containing tuples, (x1, y1, x2, y2) representing coordinates of a bounding box around the sign in the image. **THESE COORDINATES ASSUME THE ORIGINAL IMAGE. THE PICKLED DATA CONTAINS RESIZED VERSIONS (32 by 32) OF THESE IMAGES**\n",
    "\n",
    "Complete the basic data summary below."
   ]
  },
  {
   "cell_type": "code",
   "execution_count": 2,
   "metadata": {},
   "outputs": [
    {
     "name": "stdout",
     "output_type": "stream",
     "text": [
      "Number of training examples = 34799\n",
      "Number of testing examples = 12630\n",
      "Image data shape = (32, 32, 3)\n",
      "Number of classes = 43\n"
     ]
    }
   ],
   "source": [
    "### Replace each question mark with the appropriate value.\n",
    "\n",
    "# TODO: Number of training examples\n",
    "n_train = len(X_train)\n",
    "\n",
    "# TODO: Number of testing examples.\n",
    "n_test = len(X_test)\n",
    "\n",
    "# TODO: What's the shape of a traffic sign image?\n",
    "image_shape = X_train[0].shape\n",
    "\n",
    "# TODO: How many unique classes/labels there are in the dataset.\n",
    "n_classes = np.unique(y_train).size\n",
    "\n",
    "print(\"Number of training examples =\", n_train)\n",
    "print(\"Number of testing examples =\", n_test)\n",
    "print(\"Image data shape =\", image_shape)\n",
    "print(\"Number of classes =\", n_classes)"
   ]
  },
  {
   "cell_type": "markdown",
   "metadata": {},
   "source": [
    "## Visualize\n",
    "\n",
    "In the below cells I will add some visualizations.\n",
    "\n",
    "First up, as is often important in machine learning tasks, we need to check the distribution of the data; in this case, how many of each sign we have in our dataset. If it is too skewed, the model might appear to get a high training accuracy while deciding just to constantly misclassify some of the small classes."
   ]
  },
  {
   "cell_type": "code",
   "execution_count": 3,
   "metadata": {},
   "outputs": [
    {
     "data": {
      "text/plain": [
       "(array([  180.,  1980.,  2010.,  1260.,  1770.,  1650.,   360.,  1290.,\n",
       "         1260.,  1320.,  1800.,  1170.,  1890.,  1920.,   690.,   540.,\n",
       "          360.,   990.,  1080.,   180.,   300.,   270.,   330.,   450.,\n",
       "          240.,  1350.,   540.,   210.,   480.,   240.,   390.,   690.,\n",
       "          210.,   599.,   360.,  1080.,   330.,   180.,  1860.,   270.,\n",
       "          300.,   210.,   210.]),\n",
       " array([  0.        ,   0.97674419,   1.95348837,   2.93023256,\n",
       "          3.90697674,   4.88372093,   5.86046512,   6.8372093 ,\n",
       "          7.81395349,   8.79069767,   9.76744186,  10.74418605,\n",
       "         11.72093023,  12.69767442,  13.6744186 ,  14.65116279,\n",
       "         15.62790698,  16.60465116,  17.58139535,  18.55813953,\n",
       "         19.53488372,  20.51162791,  21.48837209,  22.46511628,\n",
       "         23.44186047,  24.41860465,  25.39534884,  26.37209302,\n",
       "         27.34883721,  28.3255814 ,  29.30232558,  30.27906977,\n",
       "         31.25581395,  32.23255814,  33.20930233,  34.18604651,\n",
       "         35.1627907 ,  36.13953488,  37.11627907,  38.09302326,\n",
       "         39.06976744,  40.04651163,  41.02325581,  42.        ]),\n",
       " <a list of 43 Patch objects>)"
      ]
     },
     "execution_count": 3,
     "metadata": {},
     "output_type": "execute_result"
    },
    {
     "data": {
      "image/png": "[encoded data removed]",
      "text/plain": [
       "<matplotlib.figure.Figure at 0xb40a128>"
      ]
     },
     "metadata": {},
     "output_type": "display_data"
    }
   ],
   "source": [
    "### Data exploration visualization goes here.\n",
    "\n",
    "import matplotlib.pyplot as plt\n",
    "# Visualizations will be shown in the notebook.\n",
    "%matplotlib inline\n",
    "\n",
    "# Making a histogram for the distribution\n",
    "plt.hist(y_train, bins = n_classes)"
   ]
  },
  {
   "cell_type": "markdown",
   "metadata": {},
   "source": [
    "Ok, so this looks a little bit skewed. This might create an issue. I'll come back to this later."
   ]
  },
  {
   "cell_type": "markdown",
   "metadata": {},
   "source": [
    "----\n",
    "\n",
    "## Step 2: Design and Test a Model Architecture\n",
    "\n",
    "Design and implement a deep learning model that learns to recognize traffic signs. Train and test your model on the [German Traffic Sign Dataset](http://benchmark.ini.rub.de/?section=gtsrb&subsection=dataset).\n",
    "\n",
    "There are various aspects to consider when thinking about this problem:\n",
    "\n",
    "- Neural network architecture\n",
    "- Play around preprocessing techniques (normalization, rgb to grayscale, etc)\n",
    "- Number of examples per label (some have more than others).\n",
    "- Generate fake data.\n",
    "\n",
    "Here is an example of a [published baseline model on this problem](http://yann.lecun.com/exdb/publis/pdf/sermanet-ijcnn-11.pdf). It's not required to be familiar with the approach used in the paper but, it's good practice to try to read papers like these.\n",
    "\n",
    "**NOTE:** The LeNet-5 implementation shown in the [classroom](https://classroom.udacity.com/nanodegrees/nd013/parts/fbf77062-5703-404e-b60c-95b78b2f3f9e/modules/6df7ae49-c61c-4bb2-a23e-6527e69209ec/lessons/601ae704-1035-4287-8b11-e2c2716217ad/concepts/d4aca031-508f-4e0b-b493-e7b706120f81) at the end of the CNN lesson is a solid starting point. You'll have to change the number of classes and possibly the preprocessing, but aside from that it's plug and play!"
   ]
  },
  {
   "cell_type": "markdown",
   "metadata": {},
   "source": [
    "### Implementation\n",
    "\n",
    "Use the code cell (or multiple code cells, if necessary) to implement the first step of your project. Once you have completed your implementation and are satisfied with the results, be sure to thoroughly answer the questions that follow."
   ]
  },
  {
   "cell_type": "code",
   "execution_count": 4,
   "metadata": {},
   "outputs": [],
   "source": [
    "import cv2\n",
    "\n",
    "# Grayscales an image\n",
    "def grayscale(img):\n",
    "    img = cv2.cvtColor(img, cv2.COLOR_BGR2GRAY)\n",
    "    return img\n",
    "\n",
    "# Normalizes the data between 0.1 and 0.9 instead of 0 to 255    \n",
    "def normalize(data):\n",
    "    return data / 255 * 0.8 + 0.1\n",
    "\n",
    "# Iterates through grayscale for each image in the data\n",
    "def preprocess(data):\n",
    "    gray_images = []\n",
    "    for image in data:\n",
    "        gray = grayscale(image)\n",
    "        gray_images.append(gray)\n",
    "        \n",
    "    return np.array(gray_images)"
   ]
  },
  {
   "cell_type": "code",
   "execution_count": 5,
   "metadata": {},
   "outputs": [
    {
     "name": "stdout",
     "output_type": "stream",
     "text": [
      "Preprocessing training data...\n",
      "Finished preprocessing training data.\n",
      "Processed training data shape = (34799, 32, 32, 1)\n",
      "Preprocessing testing data...\n",
      "Finished preprocessing testing data.\n",
      "Processed testing data shape = (12630, 32, 32, 1)\n",
      "All data preprocessing complete.\n"
     ]
    }
   ],
   "source": [
    "from numpy import newaxis\n",
    "\n",
    "print('Preprocessing training data...')\n",
    "\n",
    "# Iterate through grayscale\n",
    "X_train = preprocess(X_train)\n",
    "X_train = X_train[..., newaxis]\n",
    "\n",
    "# Normalize\n",
    "X_train = normalize(X_train) \n",
    "\n",
    "print('Finished preprocessing training data.')\n",
    "\n",
    "# Double-check that the image is changed to depth of 1\n",
    "image_shape2 = X_train.shape\n",
    "print(\"Processed training data shape =\", image_shape2)\n",
    "\n",
    "print('Preprocessing testing data...')\n",
    "\n",
    "# Iterate through grayscale\n",
    "X_test = preprocess(X_test)\n",
    "X_test = X_test[..., newaxis]\n",
    "\n",
    "# Normalize\n",
    "X_test = normalize(X_test) \n",
    "\n",
    "print('Finished preprocessing testing data.')\n",
    "\n",
    "# Double-check that the image is changed to depth of 1\n",
    "image_shape3 = X_test.shape\n",
    "print(\"Processed testing data shape =\", image_shape3)\n",
    "\n",
    "print('All data preprocessing complete.')"
   ]
  },
  {
   "cell_type": "markdown",
   "metadata": {},
   "source": [
    "### Question 1 \n",
    "\n",
    "_Describe how you preprocessed the data. Why did you choose that technique?_"
   ]
  },
  {
   "cell_type": "markdown",
   "metadata": {},
   "source": [
    "Answer: My supposition was that for the signs I took a gander at in the gave .csv file, there would not have been a ton of extra data picked up from rgb versus grayscale, so grayscaling could make the neural system speedier and conceivably enable it to concentrate more on what was critical.\n",
    "Likewise, I standardized the information in the vicinity of .1 and .9, like what was talked about in one of the TensorFlow addresses, with the goal that I could keep numerical dependability for any of the bigger scientific successions happening. This helps downsize a portion of the dissimilarity inside the information. Additionally, utilizing .1 to .9 stays away from any potential issues caused by permitting the information down to zero (which could possibly separate a few conditions the street)."
   ]
  },
  {
   "cell_type": "code",
   "execution_count": 6,
   "metadata": {},
   "outputs": [
    {
     "name": "stdout",
     "output_type": "stream",
     "text": [
      "Generating new data.\n",
      "Additional data generated. Any classes lacking data now have 809 pictures.\n"
     ]
    }
   ],
   "source": [
    "\n",
    "\n",
    "# I will generate some additional data, then split the data in a later cell.\n",
    "# This is to help with the issue identified in the original histogram\n",
    "from scipy import ndimage\n",
    "import random\n",
    "\n",
    "# min_desired below is just mean_pics but wanted to make the code below easier to distinguish\n",
    "pics_in_class = np.bincount(y_train)\n",
    "mean_pics = int(np.mean(pics_in_class))\n",
    "min_desired = int(mean_pics)\n",
    "\n",
    "print('Generating new data.')\n",
    "\n",
    "# Angles to be used to rotate images in additional data made\n",
    "angles = [-10, 10, -15, 15, -20, 20]\n",
    "\n",
    "# Iterate through each class\n",
    "for i in range(len(pics_in_class)):\n",
    "    \n",
    "    # Check if less data than the mean\n",
    "    if pics_in_class[i] < min_desired:\n",
    "        \n",
    "        # Count how many additional pictures we want\n",
    "        new_wanted = min_desired - pics_in_class[i]\n",
    "        picture = np.where(y_train == i)\n",
    "        more_X = []\n",
    "        more_y = []\n",
    "        \n",
    "        # Make the number of additional pictures needed to arrive at the mean\n",
    "        for num in range(new_wanted):\n",
    "            \n",
    "            # Rotate images and append new ones to more_X, append the class to more_y\n",
    "            more_X.append(ndimage.rotate(X_train[picture][random.randint(0,pics_in_class[i] - 1)], random.choice(angles), reshape=False))\n",
    "            more_y.append(i)\n",
    "        \n",
    "        # Append the pictures generated for each class back to the original data\n",
    "        X_train = np.append(X_train, np.array(more_X), axis=0)\n",
    "        y_train = np.append(y_train, np.array(more_y), axis=0)\n",
    "        \n",
    "print('Additional data generated. Any classes lacking data now have', min_desired, 'pictures.')"
   ]
  },
  {
   "cell_type": "markdown",
   "metadata": {},
   "source": [
    "Let's check how the new distribution of data looks."
   ]
  },
  {
   "cell_type": "code",
   "execution_count": 7,
   "metadata": {},
   "outputs": [
    {
     "name": "stdout",
     "output_type": "stream",
     "text": [
      "The updated number of training examples = 46714\n"
     ]
    },
    {
     "data": {
      "image/png": "[encoded data removed]",
      "text/plain": [
       "<matplotlib.figure.Figure at 0xb40acc0>"
      ]
     },
     "metadata": {},
     "output_type": "display_data"
    }
   ],
   "source": [
    "plt.hist(y_train, bins = n_classes)\n",
    "\n",
    "updated_n_train = len(X_train)\n",
    "print(\"The updated number of training examples =\", updated_n_train)"
   ]
  },
  {
   "cell_type": "markdown",
   "metadata": {},
   "source": [
    "Now the classes that I lacked data in have been brought up to the mean. It looks a little funky, but the neural network now has a lot more examples to go off of for the classes that did not have sufficient data in the original dataset; this should help avoid it overfitting to only the largest classes."
   ]
  },
  {
   "cell_type": "code",
   "execution_count": 8,
   "metadata": {},
   "outputs": [
    {
     "name": "stdout",
     "output_type": "stream",
     "text": [
      "Dataset successfully split for training and validation.\n"
     ]
    }
   ],
   "source": [
    "# Splitting the training dataset into training and validation data\n",
    "from sklearn.model_selection import train_test_split\n",
    "\n",
    "# Shuffle the data prior to splitting\n",
    "X_train, y_train = shuffle(X_train, y_train)\n",
    "\n",
    "X_train, X_valid, y_train, y_valid = train_test_split(X_train, y_train, stratify = y_train, test_size=0.1, random_state=23)\n",
    "\n",
    "print('Dataset successfully split for training and validation.')"
   ]
  },
  {
   "cell_type": "markdown",
   "metadata": {},
   "source": [
    "### Question 2\n",
    "\n",
    "_Describe how you set up the training, validation and testing data for your model. **Optional**: If you generated additional data, how did you generate the data? Why did you generate the data? What are the differences in the new dataset (with generated data) from the original dataset?_"
   ]
  },
  {
   "cell_type": "markdown",
   "metadata": {},
   "source": [
    "Answer: To include the extra information, I iterated through each class, and for each class than was underneath the mean number of pictures for all classes, I went further to include pictures. The genuine extra information was created from the officially existing pictures in each class, by having the circle pick an irregular point to pivot utilizing scipy's 'ndimage.rotate' work. I had it experience the circle until the point when enough of these extra pictures were produced to ascend to the mean. This is the reason the histogram winds up having a huge amount of classes at a similar spot, as that was the mean of the first information. For the preparation and approval information, I split up the preparation dataset utilizing sklearn's 'train_test_split'. I likewise rearranged the information just before the split so I wouldn't wind up putting the majority of a couple of signs into the approval set, with none in the preparation set (which would get the model better than average at the preparation set yet unfit to do anything on the test set). \n",
    "\n"
   ]
  },
  {
   "cell_type": "code",
   "execution_count": 9,
   "metadata": {},
   "outputs": [],
   "source": [
    "### Define your architecture here.\n",
    "### Feel free to use as many code cells as needed.\n",
    "\n",
    "# The below is only necessary to reset if the notebook has not been shutdown\n",
    "tf.reset_default_graph()\n",
    "\n",
    "EPOCHS = 10\n",
    "BATCH_SIZE = 150\n",
    "\n",
    "from tensorflow.contrib.layers import flatten\n",
    "\n",
    "def neural_network(x):    \n",
    "    # Hyperparameters\n",
    "    mu = 0\n",
    "    sigma = 0.1\n",
    "    \n",
    "    # Layer 1: Convolutional. Input = 32x32x1. Output = 28x28x6.\n",
    "    # Weight and bias\n",
    "    # If not using grayscale, the third number in shape would be 3\n",
    "    c1_weight = tf.Variable(tf.truncated_normal(shape = (5, 5, 1, 6), mean = mu, stddev = sigma))\n",
    "    c1_bias = tf.Variable(tf.zeros(6))\n",
    "    # Apply convolution\n",
    "    conv_layer1 = tf.nn.conv2d(x, c1_weight, strides=[1, 1, 1, 1], padding='VALID') + c1_bias\n",
    "    \n",
    "    # Activation for layer 1\n",
    "    conv_layer1 = tf.nn.relu(conv_layer1)\n",
    "    \n",
    "    # Pooling. Input = 28x28x6. Output = 14x14x6.\n",
    "    conv_layer1 = tf.nn.avg_pool(conv_layer1, ksize=[1, 2, 2, 1], strides=[1, 2, 2, 1], padding='VALID')\n",
    "    \n",
    "    # Layer 2: Convolutional. Output = 10x10x16.\n",
    "    # Note: The second layer is implemented the exact same as layer one, with layer 1 as input instead of x\n",
    "    # And then of course changing the numbers to fit the desired ouput of 10x10x16\n",
    "    # Weight and bias\n",
    "    c2_weight = tf.Variable(tf.truncated_normal(shape = (5, 5, 6, 16), mean = mu, stddev = sigma))\n",
    "    c2_bias = tf.Variable(tf.zeros(16))\n",
    "    # Apply convolution for layer 2\n",
    "    conv_layer2 = tf.nn.conv2d(conv_layer1, c2_weight, strides=[1, 1, 1, 1], padding='VALID') + c2_bias\n",
    "    \n",
    "    # Activation for layer 2\n",
    "    conv_layer2 = tf.nn.relu(conv_layer2)\n",
    "    \n",
    "    # Pooling. Input = 10x10x16. Output = 5x5x16.\n",
    "    conv_layer2 = tf.nn.avg_pool(conv_layer2, ksize=[1, 2, 2, 1], strides=[1, 2, 2, 1], padding='VALID')\n",
    "\n",
    "    # Flatten to get to fully connected layers. Input = 5x5x16. Output = 400.\n",
    "    flat = tf.contrib.layers.flatten(conv_layer2)\n",
    "    \n",
    "    # Layer 3: Fully Connected. Input = 400. Output = 120.\n",
    "    # Although this is fully connected, the weights and biases still are implemented similarly\n",
    "    # There is no filter this time, so shape only takes input and output\n",
    "    # Weight and bias\n",
    "    fc1_weight = tf.Variable(tf.truncated_normal(shape = (400, 200), mean = mu, stddev = sigma))\n",
    "    fc1_bias = tf.Variable(tf.zeros(200))\n",
    "    # Here is the main change versus a convolutional layer - matrix multiplication instead of 2D convolution\n",
    "    fc1 = tf.matmul(flat, fc1_weight) + fc1_bias\n",
    "    \n",
    "    # Activation for the first fully connected layer.\n",
    "    # Same thing as before\n",
    "    fc1 = tf.nn.relu(fc1)\n",
    "    \n",
    "    # Dropout, to prevent overfitting\n",
    "    fc1 = tf.nn.dropout(fc1, keep_prob)\n",
    "\n",
    "    # Layer 4: Fully Connected. Input = 120. Output = 84.\n",
    "    # Same as the fc1 layer, just with updated output numbers\n",
    "    fc2_weight = tf.Variable(tf.truncated_normal(shape = (200, 100), mean = mu, stddev = sigma))\n",
    "    fc2_bias = tf.Variable(tf.zeros(100))\n",
    "    # Again, matrix multiplication\n",
    "    fc2 = tf.matmul(fc1, fc2_weight) + fc2_bias\n",
    "    \n",
    "    # Activation.\n",
    "    fc2 = tf.nn.relu(fc2)\n",
    "    \n",
    "    # Dropout\n",
    "    fc2 = tf.nn.dropout(fc2, keep_prob)\n",
    "    \n",
    "    # Layer 5 Fully Connected. Input = 84. Output = 43.\n",
    "    # Since this is the final layer, output needs to match up with the number of classes\n",
    "    fc3_weight = tf.Variable(tf.truncated_normal(shape = (100, 43), mean = mu, stddev = sigma))\n",
    "    fc3_bias = tf.Variable(tf.zeros(43))\n",
    "    # Again, matrix multiplication\n",
    "    logits = tf.matmul(fc2, fc3_weight) + fc3_bias\n",
    "    \n",
    "    return logits"
   ]
  },
  {
   "cell_type": "code",
   "execution_count": 10,
   "metadata": {},
   "outputs": [],
   "source": [
    "# Set placeholder variables for x, y, and the keep_prob for dropout\n",
    "# Also, one-hot encode y\n",
    "x = tf.placeholder(tf.float32, (None, 32, 32, 1))\n",
    "y = tf.placeholder(tf.int32, (None))\n",
    "keep_prob = tf.placeholder(tf.float32)\n",
    "one_hot_y = tf.one_hot(y, 43)"
   ]
  },
  {
   "cell_type": "code",
   "execution_count": 11,
   "metadata": {},
   "outputs": [],
   "source": [
    "# Setting learning rate, loss functions, and optimizer\n",
    "rate = 0.005\n",
    "\n",
    "logits = neural_network(x)\n",
    "cross_entropy = tf.nn.softmax_cross_entropy_with_logits(logits=logits, labels=one_hot_y)\n",
    "loss_operation = tf.reduce_mean(cross_entropy)\n",
    "optimizer = tf.train.AdamOptimizer(learning_rate = rate)\n",
    "training_operation = optimizer.minimize(loss_operation)"
   ]
  },
  {
   "cell_type": "code",
   "execution_count": 12,
   "metadata": {},
   "outputs": [],
   "source": [
    "# The below is used in the validation part of the neural network\n",
    "correct_prediction = tf.equal(tf.argmax(logits, 1), tf.argmax(one_hot_y, 1))\n",
    "accuracy_operation = tf.reduce_mean(tf.cast(correct_prediction, tf.float32))\n",
    "\n",
    "def evaluate(X_data, y_data):\n",
    "    num_examples = len(X_data)\n",
    "    total_accuracy = 0\n",
    "    sess = tf.get_default_session()\n",
    "    for offset in range(0, num_examples, BATCH_SIZE):\n",
    "        batch_x, batch_y = X_data[offset:offset+BATCH_SIZE], y_data[offset:offset+BATCH_SIZE]\n",
    "        accuracy =  sess.run(accuracy_operation, feed_dict={x: batch_x, y: batch_y, keep_prob : 1.0})\n",
    "        total_accuracy += (accuracy * len(batch_x))\n",
    "    return total_accuracy / num_examples"
   ]
  },
  {
   "cell_type": "markdown",
   "metadata": {},
   "source": [
    "### Question 3\n",
    "\n",
    "_What does your final architecture look like? (Type of model, layers, sizes, connectivity, etc.)  For reference on how to build a deep neural network using TensorFlow, see [Deep Neural Network in TensorFlow\n",
    "](https://classroom.udacity.com/nanodegrees/nd013/parts/fbf77062-5703-404e-b60c-95b78b2f3f9e/modules/6df7ae49-c61c-4bb2-a23e-6527e69209ec/lessons/b516a270-8600-4f93-a0a3-20dfeabe5da6/concepts/83a3a2a2-a9bd-4b7b-95b0-eb924ab14432) from the classroom._\n"
   ]
  },
  {
   "cell_type": "markdown",
   "metadata": {},
   "source": [
    "Answer: My system is a convolutional neural system, as these have a tendency to do with pictures. I for the most part utilized an indistinguishable design from the LeNet neural system did, with 2 convolutional layers and 3 completely associated layers. I additionally did a couple of endeavors with one less convolutional layer (which sped it up by a better than average sum however dropped the precision) and one less completely associated layer (which just possibly dropped the exactness). \n",
    "\n",
    "One thing I changed from the fundamental LeNet structure was adding dropout to the completely associated layers. In spite of the fact that this makes introductory ages in approval somewhat more regrettable, I picked up an extra 3% on test exactness. Since I was getting to approval exactness of around 97%, with test precision around 88-89%, there was obviously a tad bit of overfitting being finished. Dropout got my test precision into the 90's by keeping some of that overfitting. I put dropout at 0.7 likelihood as that tended to in any case approve at an average rate inside a worthy number of ages over a lower number, for example, 0.5. Additionally, I changed max pool to normal pool as that appeared to marginally build exactness. \n",
    "\n",
    "Note likewise that because of grayscaling, and including back a measurement (see above) for profundity, the contributions for my system should be at 32x32x1, rather than the first 32x32x3 that the information had at first."
   ]
  },
  {
   "cell_type": "code",
   "execution_count": 16,
   "metadata": {},
   "outputs": [
    {
     "name": "stdout",
     "output_type": "stream",
     "text": [
      "Training...\n",
      "\n",
      "EPOCH 1 ...\n",
      "Validation Accuracy = 0.833\n",
      "\n",
      "EPOCH 2 ...\n",
      "Validation Accuracy = 0.911\n",
      "\n",
      "EPOCH 3 ...\n",
      "Validation Accuracy = 0.946\n",
      "\n",
      "EPOCH 4 ...\n",
      "Validation Accuracy = 0.953\n",
      "\n",
      "EPOCH 5 ...\n",
      "Validation Accuracy = 0.960\n",
      "\n",
      "EPOCH 6 ...\n",
      "Validation Accuracy = 0.973\n",
      "\n",
      "EPOCH 7 ...\n",
      "Validation Accuracy = 0.976\n",
      "\n",
      "EPOCH 8 ...\n",
      "Validation Accuracy = 0.970\n",
      "\n",
      "EPOCH 9 ...\n",
      "Validation Accuracy = 0.976\n",
      "\n",
      "EPOCH 10 ...\n",
      "Validation Accuracy = 0.978\n",
      "\n",
      "Model saved\n"
     ]
    }
   ],
   "source": [
    "### Train your model here.\n",
    "### Feel free to use as many code cells as needed.\n",
    "saver = tf.train.Saver()\n",
    "with tf.Session() as sess:\n",
    "    sess.run(tf.global_variables_initializer())\n",
    "    num_examples = len(X_train)\n",
    "    \n",
    "    print(\"Training...\")\n",
    "    print()\n",
    "    for i in range(EPOCHS):\n",
    "        X_train, y_train = shuffle(X_train, y_train)\n",
    "        for offset in range(0, num_examples, BATCH_SIZE):\n",
    "            end = offset + BATCH_SIZE\n",
    "            batch_x, batch_y = X_train[offset:end], y_train[offset:end]\n",
    "            loss = sess.run(training_operation, feed_dict={x: batch_x, y: batch_y, keep_prob : 0.7})\n",
    "            \n",
    "        validation_accuracy = evaluate(X_valid, y_valid)\n",
    "        print(\"EPOCH {} ...\".format(i+1))\n",
    "        print(\"Validation Accuracy = {:.3f}\".format(validation_accuracy))\n",
    "        print()\n",
    "    saver.save(sess, 'C:/Users/teja/lenet')\n",
    "    print(\"Model saved\")"
   ]
  },
  {
   "cell_type": "code",
   "execution_count": 17,
   "metadata": {},
   "outputs": [
    {
     "name": "stdout",
     "output_type": "stream",
     "text": [
      "INFO:tensorflow:Restoring parameters from ./lenet\n",
      "Test Accuracy: 0.9080759882926941\n"
     ]
    }
   ],
   "source": [
    "# Launch the model on the test data\n",
    "with tf.Session() as sess:\n",
    "    saver.restore(sess, \"./lenet\")\n",
    "\n",
    "    test_accuracy = sess.run(accuracy_operation, feed_dict={x: X_test, y: y_test, keep_prob : 1.0})\n",
    "\n",
    "print('Test Accuracy: {}'.format(test_accuracy))"
   ]
  },
  {
   "cell_type": "markdown",
   "metadata": {},
   "source": [
    "### Question 4\n",
    "\n",
    "_How did you train your model? (Type of optimizer, batch size, epochs, hyperparameters, etc.)_\n"
   ]
  },
  {
   "cell_type": "markdown",
   "metadata": {},
   "source": [
    "Answer: I used the AdamOptimizer from inside TensorFLow to streamline, which appeared to improve the situation than a standard Gradient Descent Optimizer. Additionally, I attempted a couple of various bunch sizes (see beneath), however settled at 150 as that appeared to perform superior to anything cluster sizes bigger or littler than that. I ran just 10 ages, principally because of time and further execution picks up, as it was at that point touching base at about 97-98% approval exactness, and further ages brought about just minor additions while proceeding to build time caused in preparing. Furthermore, there is no assurance that further change in approval precision does something besides just overfit the information (in spite of the fact that adding dropout to the model helps in such manner). \n",
    "\n",
    "For the model hyperparameters, I stayed with a mean of 0 and standard deviation/sigma of 0.1. A critical part of the model is endeavoring to keep a mean of 0 and equivalent difference, so these hyperparameters endeavor to take after this logic. I attempted a couple of other standard deviations however found a littler one didn't generally help, while a bigger one inconceivably expanded the preparation time vital."
   ]
  },
  {
   "cell_type": "markdown",
   "metadata": {},
   "source": [
    "### Question 5\n",
    "\n",
    "\n",
    "_What approach did you take in coming up with a solution to this problem? It may have been a process of trial and error, in which case, outline the steps you took to get to the final solution and why you chose those steps. Perhaps your solution involved an already well known implementation or architecture. In this case, discuss why you think this is suitable for the current problem._"
   ]
  },
  {
   "cell_type": "markdown",
   "metadata": {},
   "source": [
    "Answer: I went through a couple of things for each paramater with a specific end goal to tune my model further. The consequences of this are demonstrated as follows; not this isn't a genuine framework seek as I was just tuning one parameter at any given moment rather than checking each blend of the beneath things. For speed's purpose, I adhered to 10 ages, despite the fact that there is unquestionably a potential had I went through something like 100 ages to enhance the approval exactness while in the meantime touching base at a superior last test score. The default generally utilized was a learning rate of .01, 150 group measure, 2 convolutional layers and 3 completely associated layers (which is after a tiny bit of figure and check as of now). \n",
    "\n",
    "Learning rate after 10 ages: \n",
    "\n",
    ".1 = .040 \n",
    "\n",
    ".01 = .976 .005 = .983 .001 = .973 \n",
    "\n",
    "Clump measure after 10 ages: \n",
    "\n",
    "250 = .967 \n",
    "\n",
    "150 = .976 \n",
    "\n",
    "50 = .043 \n",
    "\n",
    "Less layers after 10 ages: \n",
    "\n",
    "2 convolutional, 3 completely associated = .976 \n",
    "\n",
    "1 convolutional, 3 completely associated = .944 \n",
    "\n",
    "2 convolutional, 2 completely associated = .979 (this turned out somewhat superior to the 2 convolutional and 3 completely associated above, yet given the closeness I favored the marginally more profound model as there was no distinction in speed. I picked this since I thought the extra layer that included dropout would help against overfitting). \n",
    "\n",
    "As the CNN with 2 convolutional layers, 3 completely associated, a learning rate of .005 and a cluster estimate 150 seems to bring about the ideal CNN, I used this for the last model."
   ]
  },
  {
   "cell_type": "markdown",
   "metadata": {},
   "source": [
    "---\n",
    "\n",
    "## Step 3: Test a Model on New Images\n",
    "\n",
    "Take several pictures of traffic signs that you find on the web or around you (at least five), and run them through your classifier on your computer to produce example results. The classifier might not recognize some local signs but it could prove interesting nonetheless.\n",
    "\n",
    "You may find `signnames.csv` useful as it contains mappings from the class id (integer) to the actual sign name."
   ]
  },
  {
   "cell_type": "code",
   "execution_count": 32,
   "metadata": {},
   "outputs": [
    {
     "data": {
      "image/png": "[encoded data removed]",
      "text/plain": [
       "<matplotlib.figure.Figure at 0x1c31ecf8>"
      ]
     },
     "metadata": {},
     "output_type": "display_data"
    },
    {
     "data": {
      "image/png": "[encoded data removed]",
      "text/plain": [
       "<matplotlib.figure.Figure at 0xbe39630>"
      ]
     },
     "metadata": {},
     "output_type": "display_data"
    },
    {
     "data": {
      "image/png": "[encoded data removed]",
      "text/plain": [
       "<matplotlib.figure.Figure at 0x1d712b70>"
      ]
     },
     "metadata": {},
     "output_type": "display_data"
    },
    {
     "data": {
      "image/png": "[encoded data removed]",
      "text/plain": [
       "<matplotlib.figure.Figure at 0x1d7b9f60>"
      ]
     },
     "metadata": {},
     "output_type": "display_data"
    },
    {
     "data": {
      "image/png": "[encoded data removed]",
      "text/plain": [
       "<matplotlib.figure.Figure at 0x1d84ba58>"
      ]
     },
     "metadata": {},
     "output_type": "display_data"
    }
   ],
   "source": [
    "\n",
    "### Load the images and plot them here.\n",
    "### Feel free to use as many code cells as needed.\n",
    "# Importing the images, and let's take a look at what we have!\n",
    "import os\n",
    "import matplotlib.image as mpimg\n",
    "add_pics = os.listdir(\"add_pics/\")\n",
    "add_pics = add_pics[1:6]\n",
    "\n",
    "# Show the images, add to a list to process for classifying\n",
    "add_pics_data = []\n",
    "for i in add_pics:\n",
    "    i = 'add_pics/' + i\n",
    "    image = mpimg.imread(i)\n",
    "    add_pics_data.append(image)\n",
    "    plt.imshow(image)\n",
    "    plt.show()"
   ]
  },
  {
   "cell_type": "code",
   "execution_count": 33,
   "metadata": {},
   "outputs": [
    {
     "name": "stdout",
     "output_type": "stream",
     "text": [
      "(5, 32, 32, 3)\n"
     ]
    }
   ],
   "source": [
    "# Make into numpy array for processing\n",
    "add_pics_data = np.array(add_pics_data)\n",
    "\n",
    "# First, double-check the image shape to make sure it matches the original data's 32x32x3 size\n",
    "print(add_pics_data.shape)"
   ]
  },
  {
   "cell_type": "code",
   "execution_count": 34,
   "metadata": {},
   "outputs": [
    {
     "name": "stdout",
     "output_type": "stream",
     "text": [
      "Preprocessing additional pictures...\n",
      "Finished preprocessing additional pictures.\n",
      "Processed additional pictures shape = (5, 32, 32, 1)\n"
     ]
    }
   ],
   "source": [
    "print('Preprocessing additional pictures...')\n",
    "\n",
    "# Iterate through grayscale\n",
    "add_pics_data = preprocess(add_pics_data)\n",
    "add_pics_data = add_pics_data[..., newaxis]\n",
    "\n",
    "# Normalize\n",
    "add_pics_data = normalize(add_pics_data) \n",
    "\n",
    "print('Finished preprocessing additional pictures.')\n",
    "\n",
    "# Double-check that the image is changed to depth of 1\n",
    "new_image_shape = add_pics_data.shape\n",
    "print(\"Processed additional pictures shape =\", new_image_shape)"
   ]
  },
  {
   "cell_type": "code",
   "execution_count": 36,
   "metadata": {},
   "outputs": [
    {
     "name": "stdout",
     "output_type": "stream",
     "text": [
      "INFO:tensorflow:Restoring parameters from ./lenet\n"
     ]
    }
   ],
   "source": [
    "with tf.Session() as sess:\n",
    "    saver.restore(sess, \"./lenet\")\n",
    "\n",
    "    new_pics_classes = sess.run(logits, feed_dict={x: add_pics_data, keep_prob : 1.0})"
   ]
  },
  {
   "cell_type": "code",
   "execution_count": 37,
   "metadata": {},
   "outputs": [
    {
     "name": "stdout",
     "output_type": "stream",
     "text": [
      "Image 0 probabilities: [ 9.60790825  7.69482756  6.52622032  3.15420198  2.63049269] \n",
      " and predicted classes: [10  5  9  7  3]\n",
      "Image 1 probabilities: [ 7.26507092  6.33769846  2.28182721  0.20671663 -0.16464728] \n",
      " and predicted classes: [34 38 14 26 28]\n",
      "Image 2 probabilities: [ 22.07051849  11.1653862    4.30737972   0.40111449  -0.6176846 ] \n",
      " and predicted classes: [18 27 26 20 24]\n",
      "Image 3 probabilities: [ 14.01185989   2.77783346   0.96089506   0.94375664   0.33720914] \n",
      " and predicted classes: [14 33 17 15 38]\n",
      "Image 4 probabilities: [ 12.34413338   6.23858595   5.15533543   2.28014231  -0.48314303] \n",
      " and predicted classes: [13 35 12 38  9]\n"
     ]
    }
   ],
   "source": [
    "### Visualize the softmax probabilities here.\n",
    "with tf.Session() as sess:\n",
    "    predicts = sess.run(tf.nn.top_k(new_pics_classes, k=5, sorted=True))\n",
    "    \n",
    "for i in range(len(predicts[0])):\n",
    "    print('Image', i, 'probabilities:', predicts[0][i], '\\n and predicted classes:', predicts[1][i])"
   ]
  },
  {
   "cell_type": "markdown",
   "metadata": {},
   "source": [
    "question 8:\n",
    "answer\n",
    "For the main picture, the 60 km/h sign, as I expected, it got the way that it was a speed sign right, yet tragically thought it was the 80 km/h sign. Given the most noteworthy likelihood was just around 3%, the model unquestionably battles recognizing speed signs (the best four probabilities are all speed signs). For the second (left turn), it sadly got it as a \"No Vehicles\" sign first; in any case, the second most elevated likelihood is the right answer of the Left Turn Ahead. I'm reasonably interested by the model putting the No Vehicles sign here, as it really arrives in the best five for four of the five signs I took a gander at. It should fundamentally be centered around the sign being round for that one. \n",
    "For the third, it mistakenly surmises need street. I trust this is because of the sign shape. Fairly strangely, it never surmises the street work sign by any means. This might be because of the predetermined number of ages (10) I kept running on the model - the many-sided quality of the internal shape might be troublesome for the model to learn in such a brief span (if by any stretch of the imagination). It accurately surmises both the fourth and fifth pictures! It is substantially more certain on the caution sign than anything it thought on the others. Along these lines, my model just worked precisely on 40% of the extra pictures. In any case, it likewise effectively recognized the 60 km/h sign as a speed sign, and was genuinely close on the Left Turn Ahead sign, so with some tweaking of either the model or further preprocessing of the pictures, I wager I could get to no less than 80% on these. This is obviously still lower than the about 93% accomplished on the test information, yet at the same time would be genuinely useful for not having curated the pictures precisely like whomever did as such on the first dataset.\n"
   ]
  }
 ],
 "metadata": {
  "anaconda-cloud": {},
  "kernelspec": {
   "display_name": "Python 3",
   "language": "python",
   "name": "python3"
  },
  "language_info": {
   "codemirror_mode": {
    "name": "ipython",
    "version": 3
   },
   "file_extension": ".py",
   "mimetype": "text/x-python",
   "name": "python",
   "nbconvert_exporter": "python",
   "pygments_lexer": "ipython3",
   "version": "3.6.1"
  }
 },
 "nbformat": 4,
 "nbformat_minor": 1
}
